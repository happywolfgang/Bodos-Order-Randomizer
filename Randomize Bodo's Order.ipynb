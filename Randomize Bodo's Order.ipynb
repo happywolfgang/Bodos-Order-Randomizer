{
 "cells": [
  {
   "cell_type": "code",
   "execution_count": 5,
   "id": "f0673335",
   "metadata": {},
   "outputs": [],
   "source": [
    "import random"
   ]
  },
  {
   "cell_type": "code",
   "execution_count": 24,
   "id": "7f3bb08d",
   "metadata": {},
   "outputs": [],
   "source": [
    "#List of bagels\n",
    "bagels = ['Plain', 'Sesame', 'Poppy', 'Onion', 'Everything', 'Garlic', 'Salt', \"100% Whole Wheat\", \"Cinnamon-Raisin\", \"Everything on Whole Wheat\"]"
   ]
  },
  {
   "cell_type": "code",
   "execution_count": 116,
   "id": "f26d8387",
   "metadata": {},
   "outputs": [],
   "source": [
    "#List of potential spreads\n",
    "creamcheese = ['Herb', 'Jalapeno Lime', 'Walnut Raisin',\n",
    "'Olive', 'Honey Pecan', 'Blueberry', 'Vegetable',\n",
    "'Strawberry', 'Lox Spread', 'Neufchatel']\n",
    "spreads = ['Honey and Butter', 'Cinnamon Sugar and Butter', 'Butter or Smart Balance',\n",
    "           'Peanut Butter', 'Strawberry Preserves', 'PB&J']\n",
    "sandwichspreads = ['Kalamata Olive Spread', 'Feta Spread', 'Avocado', 'Hummus', 'Pesto']\n",
    "condiments = ['Mayo', 'Mustard', 'Horseradish', 'Butter', 'SmartBalance']"
   ]
  },
  {
   "cell_type": "code",
   "execution_count": 86,
   "id": "645d2476",
   "metadata": {},
   "outputs": [],
   "source": [
    "#Sandwich options:\n",
    "meats = ['Turkey Breast', \"Smoked Turkey Breast\", 'Ham', 'Roast Beef', 'Pastrami', 'Corned Beef', 'Sausage', 'Capicola', 'Salami', 'BLT', 'Chopped Liver', 'Liverwurst']\n",
    "cheeses = ['Swiss', 'Provolone', 'Muenster', 'Cheddar', 'American', '3-Cheese']\n",
    "specials = ['Chicken Salad', 'Tuna Salad', 'Shrimp Salad', 'Egg Salad', 'Baked Salmon and Whitefish Salad', 'Lox and Cream Cheese']\n",
    "veggie = ['NoBull Patty', 'Herbed Tofu', 'Tomato', 'Lettuce', 'Onion']"
   ]
  },
  {
   "cell_type": "code",
   "execution_count": 117,
   "id": "a1882f5c",
   "metadata": {},
   "outputs": [
    {
     "name": "stdout",
     "output_type": "stream",
     "text": [
      "I'd like Horseradish on Onion with Tuna Salad and Pastrami.\n"
     ]
    }
   ],
   "source": [
    "# Select a random item:\n",
    "selected_bagel = random.choice(bagels)\n",
    "\n",
    "#Select your spread:\n",
    "selected_spread = random.sample(creamcheese + spreads + sandwichspreads + condiments, 1)\n",
    "\n",
    "#Select 2 proteins/veggies:\n",
    "selected_proteins = random.sample(meats + cheeses + specials + veggie, 2)\n",
    "\n",
    "#Print output:\n",
    "print(f\"I'd like {selected_spread[0]}\", \"on\", selected_bagel, f\"with {selected_proteins[0]} and {selected_proteins[1]}.\")"
   ]
  },
  {
   "cell_type": "code",
   "execution_count": 98,
   "id": "98a63974",
   "metadata": {},
   "outputs": [
    {
     "name": "stdout",
     "output_type": "stream",
     "text": [
      "I'd like 3 onion bagels, hot, with nothing on them, please.\n"
     ]
    }
   ],
   "source": [
    "#Todd's order:\n",
    "print(\"I'd like 3 onion bagels, hot, with nothing on them, please.\")"
   ]
  }
 ],
 "metadata": {
  "kernelspec": {
   "display_name": "Python 3 (ipykernel)",
   "language": "python",
   "name": "python3"
  },
  "language_info": {
   "codemirror_mode": {
    "name": "ipython",
    "version": 3
   },
   "file_extension": ".py",
   "mimetype": "text/x-python",
   "name": "python",
   "nbconvert_exporter": "python",
   "pygments_lexer": "ipython3",
   "version": "3.11.7"
  }
 },
 "nbformat": 4,
 "nbformat_minor": 5
}
