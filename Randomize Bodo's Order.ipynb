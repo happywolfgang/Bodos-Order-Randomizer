{
 "cells": [
  {
   "cell_type": "code",
   "execution_count": 2,
   "id": "f0673335",
   "metadata": {},
   "outputs": [],
   "source": [
    "import random"
   ]
  },
  {
   "cell_type": "code",
   "execution_count": 4,
   "id": "7f3bb08d",
   "metadata": {},
   "outputs": [],
   "source": [
    "#List of bagels\n",
    "bagels = ['Plain', 'Sesame', 'Poppy', 'Onion', 'Everything', 'Garlic', 'Salt', \"100% Whole Wheat\", \"Cinnamon-Raisin\", \"Everything on Whole Wheat\"]"
   ]
  },
  {
   "cell_type": "code",
   "execution_count": 5,
   "id": "f26d8387",
   "metadata": {},
   "outputs": [],
   "source": [
    "#List of potential spreads\n",
    "creamcheese = ['Herb', 'Jalapeno Lime', 'Walnut Raisin',\n",
    "'Olive', 'Honey Pecan', 'Blueberry', 'Vegetable',\n",
    "'Strawberry', 'Lox Spread', 'Neufchatel']\n",
    "spreads = ['Honey and Butter', 'Cinnamon Sugar and Butter', 'Butter or Smart Balance',\n",
    "           'Peanut Butter', 'Strawberry Preserves', 'PB&J']\n",
    "sandwichspreads = ['Kalamata Olive Spread', 'Feta Spread', 'Avocado', 'Hummus', 'Pesto']\n",
    "condiments = ['Mayo', 'Mustard', 'Horseradish', 'Butter', 'SmartBalance']"
   ]
  },
  {
   "cell_type": "code",
   "execution_count": 6,
   "id": "645d2476",
   "metadata": {},
   "outputs": [],
   "source": [
    "#Sandwich options:\n",
    "meats = ['Turkey Breast', \"Smoked Turkey Breast\", 'Ham', 'Roast Beef', 'Pastrami', 'Corned Beef', 'Sausage', 'Capicola', 'Salami', 'BLT', 'Chopped Liver', 'Liverwurst']\n",
    "cheeses = ['Swiss', 'Provolone', 'Muenster', 'Cheddar', 'American', '3-Cheese']\n",
    "specials = ['Chicken Salad', 'Tuna Salad', 'Shrimp Salad', 'Egg Salad', 'Baked Salmon and Whitefish Salad', 'Lox and Cream Cheese']\n",
    "veggie = ['NoBull Patty', 'Herbed Tofu', 'Tomato', 'Lettuce', 'Onion']"
   ]
  },
  {
   "cell_type": "code",
   "execution_count": 16,
   "id": "a1882f5c",
   "metadata": {},
   "outputs": [
    {
     "name": "stdout",
     "output_type": "stream",
     "text": [
      "I'd like Pesto on Everything with Sausage and 3-Cheese.\n"
     ]
    }
   ],
   "source": [
    "# Select a random item:\n",
    "selected_bagel = random.choice(bagels)\n",
    "\n",
    "#Select your spread:\n",
    "selected_spread = random.sample(creamcheese + spreads + sandwichspreads + condiments, 1)\n",
    "\n",
    "#Select 2 proteins/veggies:\n",
    "selected_proteins = random.sample(meats + cheeses + specials + veggie, 2)\n",
    "\n",
    "#Print output:\n",
    "print(f\"I'd like {selected_spread[0]} on {selected_bagel} with {selected_proteins[0]} and {selected_proteins[1]}.\")"
   ]
  },
  {
   "cell_type": "code",
   "execution_count": 11,
   "id": "98a63974",
   "metadata": {},
   "outputs": [
    {
     "name": "stdout",
     "output_type": "stream",
     "text": [
      "I'd like 3 onion bagels, hot, with nothing on them, please.\n"
     ]
    }
   ],
   "source": [
    "#Todd's order:\n",
    "print(\"I'd like 3 onion bagels, hot, with nothing on them, please.\")"
   ]
  },
  {
   "cell_type": "code",
   "execution_count": 17,
   "id": "7c700ed1",
   "metadata": {},
   "outputs": [
    {
     "data": {
      "text/plain": [
       "\"I'd like Jalapeno Lime on Garlic with Pastrami and Swiss.\""
      ]
     },
     "execution_count": 17,
     "metadata": {},
     "output_type": "execute_result"
    }
   ],
   "source": [
    "#Turned the above process into a function:\n",
    "\n",
    "def bagelorder():\n",
    "    selected_bagel = random.choice(bagels)\n",
    "    selected_spread = random.sample(creamcheese + spreads + sandwichspreads + condiments, 1)\n",
    "    selected_proteins = random.sample(meats + cheeses + specials + veggie, 2)\n",
    "    return f\"I'd like {selected_spread[0]} on {selected_bagel} with {selected_proteins[0]} and {selected_proteins[1]}.\"\n",
    "\n",
    "bagelorder()"
   ]
  },
  {
   "cell_type": "code",
   "execution_count": null,
   "id": "d9bfd5a9",
   "metadata": {},
   "outputs": [],
   "source": [
    "#New version (next steps:)\n",
    "\n",
    "#Determine what kind of bagel the order would like (input or random), to include:\n",
    "# Egg, vegetarian, vegan, sweet, meat-based, or chaotic\n",
    "\n",
    "#Make several functions to determine these kinds of bagels\n",
    "\n",
    "#Randomize the final output:"
   ]
  }
 ],
 "metadata": {
  "kernelspec": {
   "display_name": "Python 3 (ipykernel)",
   "language": "python",
   "name": "python3"
  },
  "language_info": {
   "codemirror_mode": {
    "name": "ipython",
    "version": 3
   },
   "file_extension": ".py",
   "mimetype": "text/x-python",
   "name": "python",
   "nbconvert_exporter": "python",
   "pygments_lexer": "ipython3",
   "version": "3.11.7"
  }
 },
 "nbformat": 4,
 "nbformat_minor": 5
}
